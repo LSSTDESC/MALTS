{
  "nbformat": 4,
  "nbformat_minor": 0,
  "metadata": {
    "colab": {
      "provenance": [],
      "toc_visible": true,
      "collapsed_sections": [
        "sGZTDIlK4L-L"
      ],
      "include_colab_link": true
    },
    "kernelspec": {
      "name": "python3",
      "display_name": "Python 3"
    },
    "language_info": {
      "name": "python"
    },
    "accelerator": "GPU"
  },
  "cells": [
    {
      "cell_type": "markdown",
      "metadata": {
        "id": "view-in-github",
        "colab_type": "text"
      },
      "source": [
        "<a href=\"https://colab.research.google.com/github/LSSTDESC/MALTS/blob/main/Tutorials/intro_to_JAX.ipynb\" target=\"_parent\"><img src=\"https://colab.research.google.com/assets/colab-badge.svg\" alt=\"Open In Colab\"/></a>"
      ]
    },
    {
      "cell_type": "markdown",
      "metadata": {
        "id": "KLp2z7Vg0tBN"
      },
      "source": [
        "# MALTS JAX Tutorial\n",
        "\n",
        "Authors:\n",
        "- [@EiffL](https://github.com/EiffL)(Francois Lanusse)\n",
        "- [@b-remy](https://github.com/b-remy)(Benjamin Remy)\n",
        "\n",
        "## Overview\n",
        "\n",
        "The goal of this tutorial is to cover some of the essential JAX mechanisms such as just in time compilation, auto-batching and automatic differentiation.\n",
        "\n",
        "**Learning objectives**:\n",
        "- Learn about JAX function transformations\n",
        "- Learn about common gotchas when using JAX\n",
        "- Learn how to compute gradients automatically with JAX\n",
        "\n"
      ]
    },
    {
      "cell_type": "markdown",
      "metadata": {
        "id": "5GCYpxBr1iwy"
      },
      "source": [
        "## JAX 101\n",
        "\n",
        "We will start by a brief overview of JAX fundamentals, this is an abriged version of what you can find in the official JAX documentation:\n",
        "- [JAX Quickstart](https://jax.readthedocs.io/en/latest/notebooks/quickstart.html)\n",
        "- [JAX 101](https://jax.readthedocs.io/en/latest/jax-101/index.html)\n",
        "\n",
        "\n"
      ]
    },
    {
      "cell_type": "code",
      "metadata": {
        "id": "7mMBVPHCKvZv",
        "colab": {
          "base_uri": "https://localhost:8080/"
        },
        "outputId": "6c159f8f-1e5c-47a9-b820-4284bf498fc5"
      },
      "source": [
        "%pylab inline\n",
        "import jax\n",
        "import jax.numpy as np\n",
        "import numpy as onp    # We'll import good old numpy as onp for reference if we need it"
      ],
      "execution_count": 1,
      "outputs": [
        {
          "output_type": "stream",
          "name": "stdout",
          "text": [
            "Populating the interactive namespace from numpy and matplotlib\n"
          ]
        }
      ]
    },
    {
      "cell_type": "markdown",
      "metadata": {
        "id": "Tygps2h4MdUu"
      },
      "source": [
        "#### Random Numbers (let's get it out of the way)\n",
        "\n",
        "JAX has a much more evolved approach to random number generation than NumPy, design to allow parallel random number generators. It is also needed to statisfy the JAX pure function approach.\n",
        "\n",
        "To use any stochastic function in JAX, you need to specify a key, which is a seed that the function can then use internally. So let's create one:"
      ]
    },
    {
      "cell_type": "code",
      "metadata": {
        "id": "yPtBk2gaNC7-"
      },
      "source": [
        "rng_key = jax.random.PRNGKey(42) # Because 42 is the answer"
      ],
      "execution_count": 2,
      "outputs": []
    },
    {
      "cell_type": "markdown",
      "metadata": {
        "id": "BvG6Q-oKNPxQ"
      },
      "source": [
        "Then everytime I need a key for a stochastic operation I can use:"
      ]
    },
    {
      "cell_type": "code",
      "metadata": {
        "id": "IEUk-Tb2NL31"
      },
      "source": [
        "key, rng_key = jax.random.split(rng_key)\n",
        "random_array = jax.random.normal(key, shape=[10])"
      ],
      "execution_count": 3,
      "outputs": []
    },
    {
      "cell_type": "code",
      "metadata": {
        "id": "bQo3MZ3TFAta"
      },
      "source": [
        "key2, rng_key = jax.random.split(rng_key)\n",
        "random_array2 = jax.random.normal(key2, shape=[10])"
      ],
      "execution_count": 4,
      "outputs": []
    },
    {
      "cell_type": "code",
      "metadata": {
        "colab": {
          "base_uri": "https://localhost:8080/"
        },
        "id": "4T01ZmGaFGms",
        "outputId": "f40d0ea1-33c4-4d73-ef07-5c4eda2dd270"
      },
      "source": [
        "random_array2, random_array"
      ],
      "execution_count": 5,
      "outputs": [
        {
          "output_type": "execute_result",
          "data": {
            "text/plain": [
              "(DeviceArray([ 0.7745861 ,  0.45568642, -0.6937385 , -0.5032791 ,\n",
              "               0.01800545,  1.188468  , -0.44328988, -1.5892283 ,\n",
              "              -0.04892203,  0.07976435], dtype=float32),\n",
              " DeviceArray([-0.74461627, -1.227107  , -0.05359983,  0.9805879 ,\n",
              "               0.8469146 ,  0.751988  ,  0.46860605,  0.49709687,\n",
              "               0.15884328, -0.86840624], dtype=float32))"
            ]
          },
          "metadata": {},
          "execution_count": 5
        }
      ]
    },
    {
      "cell_type": "markdown",
      "metadata": {
        "id": "2VjvRittNcqe"
      },
      "source": [
        "this key is only used for this operation, and next time I need to run an stochastic operation I can split again `rng_key` to obtain a new key."
      ]
    },
    {
      "cell_type": "markdown",
      "metadata": {
        "id": "Lj3QYTfLK9ZX"
      },
      "source": [
        "#### JAX works just like NumPy (most of the time)\n",
        "\n",
        "Let's start with very simple stuff, a matrix multiplication:"
      ]
    },
    {
      "cell_type": "code",
      "metadata": {
        "id": "T9V4ic0FK8d2"
      },
      "source": [
        "key1, key2, rng_key = jax.random.split(rng_key,   3)\n",
        "\n",
        "# I'm gonna create some random matrices\n",
        "A = jax.random.normal(key1, [500,1000])\n",
        "B = jax.random.normal(key2, [1000, 500])"
      ],
      "execution_count": 6,
      "outputs": []
    },
    {
      "cell_type": "code",
      "metadata": {
        "colab": {
          "base_uri": "https://localhost:8080/"
        },
        "id": "pxzam8oFOTvE",
        "outputId": "b1bee6e5-730f-4be4-f09f-76ef69612b5f"
      },
      "source": [
        "C = np.dot(A, B) \n",
        "print(\"Shape of result:\", C.shape)"
      ],
      "execution_count": 7,
      "outputs": [
        {
          "output_type": "stream",
          "name": "stdout",
          "text": [
            "Shape of result: (500, 500)\n"
          ]
        }
      ]
    },
    {
      "cell_type": "markdown",
      "metadata": {
        "id": "oKJz46XBOc04"
      },
      "source": [
        "Under the hood, if you have a GPU, this matrix multiplication happened on GPU ;-) "
      ]
    },
    {
      "cell_type": "code",
      "metadata": {
        "colab": {
          "base_uri": "https://localhost:8080/"
        },
        "id": "5Ijo7M0qPvlU",
        "outputId": "5c49ef4a-f165-496f-f6dd-6bccf1ee6171"
      },
      "source": [
        "C.argmax() # Random numpy operation"
      ],
      "execution_count": 8,
      "outputs": [
        {
          "output_type": "execute_result",
          "data": {
            "text/plain": [
              "DeviceArray(79323, dtype=int32)"
            ]
          },
          "metadata": {},
          "execution_count": 8
        }
      ]
    },
    {
      "cell_type": "markdown",
      "metadata": {
        "id": "9Ocq_MS5PuIw"
      },
      "source": [
        "\n",
        "But you also have access to a lot of other linear algebra tools:\n",
        "\n",
        "- [jax.scipy.linalg](https://jax.readthedocs.io/en/latest/jax.scipy.html#module-jax.scipy.linalg)\n",
        "- [jax.scipy.optimize](https://jax.readthedocs.io/en/latest/jax.scipy.html#module-jax.scipy.optimize)\n",
        "- [jax.scipy.special](https://jax.readthedocs.io/en/latest/jax.scipy.html#module-jax.scipy.special)"
      ]
    },
    {
      "cell_type": "code",
      "metadata": {
        "id": "FWhaHu5SOboY"
      },
      "source": [
        "from jax.scipy.linalg import svd\n",
        "U, s, V = svd(C)  # Example of an SVD"
      ],
      "execution_count": 9,
      "outputs": []
    },
    {
      "cell_type": "code",
      "metadata": {
        "id": "Qb6MbfLWGCdJ"
      },
      "source": [
        "from scipy.linalg import svd\n",
        "U, s, V = svd(C)"
      ],
      "execution_count": 10,
      "outputs": []
    },
    {
      "cell_type": "code",
      "metadata": {
        "colab": {
          "base_uri": "https://localhost:8080/"
        },
        "id": "UjxKHQoVGIM4",
        "outputId": "73c7871e-0010-4362-8fd8-df562fa906ae"
      },
      "source": [
        "U"
      ],
      "execution_count": 11,
      "outputs": [
        {
          "output_type": "execute_result",
          "data": {
            "text/plain": [
              "array([[-1.00471959e-01,  2.06279829e-02,  4.05421406e-02, ...,\n",
              "         1.43623874e-02,  1.34258475e-02,  1.10411786e-01],\n",
              "       [-7.92552531e-02, -5.84472716e-03, -9.94300619e-02, ...,\n",
              "        -2.03327718e-03,  2.68810466e-02, -5.46438247e-02],\n",
              "       [-7.09524751e-03,  3.84738669e-02, -1.26622319e-01, ...,\n",
              "        -5.32128513e-02,  4.65100631e-03,  5.17086638e-03],\n",
              "       ...,\n",
              "       [ 2.65269764e-02, -5.65939471e-02, -1.45655526e-02, ...,\n",
              "        -6.87553268e-03, -1.34209394e-02, -3.19173187e-03],\n",
              "       [ 6.29813299e-02,  7.44890943e-02,  2.34983023e-02, ...,\n",
              "        -5.12701739e-03,  3.27495746e-02, -7.90261626e-02],\n",
              "       [-2.46030949e-02,  4.36352380e-02,  1.04714185e-04, ...,\n",
              "         4.00468111e-02,  6.48858920e-02,  4.15760204e-02]], dtype=float32)"
            ]
          },
          "metadata": {},
          "execution_count": 11
        }
      ]
    },
    {
      "cell_type": "markdown",
      "metadata": {
        "id": "BJJi39Z3QVcA"
      },
      "source": [
        "#### Just in Time Compilation\n",
        "\n",
        "\n",
        "When you execute JAX code without JIT, you run through the code at the Python level, until you encounter the low level XLA interface, which is hidden behind the numpy API. At that point, the XLA bit of code is executed, and the result is returned to Python which continues to run through the next commands.\n",
        "\n",
        "This can be pretty slow because the execution is still driven by Python.\n",
        "\n",
        "So the idea of JAX is that you can jit a big function, to turn it into a single,compiled XLA graph, that runs without needing Python"
      ]
    },
    {
      "cell_type": "code",
      "metadata": {
        "id": "zjY3eJkJOblQ"
      },
      "source": [
        "def func(A, B):\n",
        "  C = np.dot(A, B)\n",
        "  C = np.where(C>0, C, 0)\n",
        "  return C"
      ],
      "execution_count": 12,
      "outputs": []
    },
    {
      "cell_type": "code",
      "metadata": {
        "colab": {
          "base_uri": "https://localhost:8080/"
        },
        "id": "rM_5ImynObiC",
        "outputId": "146ae45d-6228-44ee-8139-a56a35892a7a"
      },
      "source": [
        "%timeit func(A, B).block_until_ready()"
      ],
      "execution_count": 13,
      "outputs": [
        {
          "output_type": "stream",
          "name": "stdout",
          "text": [
            "486 µs ± 49.9 µs per loop (mean ± std. dev. of 7 runs, 1 loop each)\n"
          ]
        }
      ]
    },
    {
      "cell_type": "code",
      "metadata": {
        "id": "GcAr0qngObZJ",
        "colab": {
          "base_uri": "https://localhost:8080/"
        },
        "outputId": "cdfd669a-ab2c-4b07-d914-923f527d6d64"
      },
      "source": [
        "jitted_func = jax.jit(func)\n",
        "%time jitted_func(A, B).block_until_ready(); # First execution won't be fast"
      ],
      "execution_count": 14,
      "outputs": [
        {
          "output_type": "stream",
          "name": "stdout",
          "text": [
            "CPU times: user 34.9 ms, sys: 3.04 ms, total: 37.9 ms\n",
            "Wall time: 126 ms\n"
          ]
        },
        {
          "output_type": "execute_result",
          "data": {
            "text/plain": [
              "DeviceArray([[ 0.       ,  1.4357287,  0.       , ..., 17.862646 ,\n",
              "              15.888425 ,  0.       ],\n",
              "             [31.29053  ,  0.       , 21.890093 , ...,  0.       ,\n",
              "              20.564253 ,  0.       ],\n",
              "             [ 0.       ,  0.       ,  5.9947996, ..., 14.668052 ,\n",
              "              73.6998   ,  0.       ],\n",
              "             ...,\n",
              "             [ 8.894804 ,  1.9995042,  0.       , ..., 36.353645 ,\n",
              "               0.       ,  0.       ],\n",
              "             [ 0.       ,  0.       ,  0.       , ...,  5.242565 ,\n",
              "               0.       ,  0.       ],\n",
              "             [38.62217  , 12.626944 , 48.932022 , ...,  5.1758957,\n",
              "              25.728907 ,  8.38053  ]], dtype=float32)"
            ]
          },
          "metadata": {},
          "execution_count": 14
        }
      ]
    },
    {
      "cell_type": "code",
      "metadata": {
        "colab": {
          "base_uri": "https://localhost:8080/"
        },
        "id": "TLUE4XgHSGZi",
        "outputId": "13a6f1a7-572d-4bb2-c75a-f0039143610b"
      },
      "source": [
        "%timeit jitted_func(A,B).block_until_ready() #  Next calls are fast"
      ],
      "execution_count": 15,
      "outputs": [
        {
          "output_type": "stream",
          "name": "stdout",
          "text": [
            "307 µs ± 7.92 µs per loop (mean ± std. dev. of 7 runs, 1000 loops each)\n"
          ]
        }
      ]
    },
    {
      "cell_type": "markdown",
      "metadata": {
        "id": "Y7crL58eTXvm"
      },
      "source": [
        "For fun, we can compare to CPU using good old numpy:"
      ]
    },
    {
      "cell_type": "code",
      "metadata": {
        "id": "7PaXF4baTWj_"
      },
      "source": [
        "A_np = onp.array(A)\n",
        "B_np = onp.array(B)\n",
        "\n",
        "def func_onp(A, B):\n",
        "  C = onp.dot(A, B)\n",
        "  C = onp.where(C>0, C, 0)\n",
        "  return C"
      ],
      "execution_count": 16,
      "outputs": []
    },
    {
      "cell_type": "code",
      "metadata": {
        "colab": {
          "base_uri": "https://localhost:8080/"
        },
        "id": "7UEfGitOSGW3",
        "outputId": "12585992-2fec-4d71-c376-44301df53de5"
      },
      "source": [
        "%timeit func_onp(A_np, B_np)"
      ],
      "execution_count": 17,
      "outputs": [
        {
          "output_type": "stream",
          "name": "stdout",
          "text": [
            "13.7 ms ± 5.02 ms per loop (mean ± std. dev. of 7 runs, 100 loops each)\n"
          ]
        }
      ]
    },
    {
      "cell_type": "markdown",
      "metadata": {
        "id": "vPwKnQFGTu1P"
      },
      "source": [
        "#### Auto-batching with vmap\n",
        "\n",
        "\n",
        "Any function can be \"batched\" which means that you add a new dimension to the input/output tensors."
      ]
    },
    {
      "cell_type": "markdown",
      "metadata": {
        "id": "5tFLmJV9UoR3"
      },
      "source": [
        "So, let's say I want to make my previous function compute that operation for 10 pairs of matrices at once.\n",
        "\n",
        "If I try to use the function directly, it won't work, because  that function was written thinking about single input matrices:"
      ]
    },
    {
      "cell_type": "code",
      "metadata": {
        "id": "UewAollHUn9T"
      },
      "source": [
        "A2 = jax.random.normal(key1, shape=[10, 500,1000])\n",
        "B2 = jax.random.normal(key2, shape=[10, 1000, 500])"
      ],
      "execution_count": 18,
      "outputs": []
    },
    {
      "cell_type": "code",
      "metadata": {
        "colab": {
          "base_uri": "https://localhost:8080/"
        },
        "id": "yeNmmeDNUmUZ",
        "outputId": "dd292eb3-1a37-4b00-8871-8a928fd124ba"
      },
      "source": [
        "func(A2, B2).shape"
      ],
      "execution_count": 19,
      "outputs": [
        {
          "output_type": "execute_result",
          "data": {
            "text/plain": [
              "(10, 500, 10, 500)"
            ]
          },
          "metadata": {},
          "execution_count": 19
        }
      ]
    },
    {
      "cell_type": "markdown",
      "metadata": {
        "id": "mXg705PcVf_Q"
      },
      "source": [
        "But we would have expected an output of shape [10, 500, 500].\n",
        "\n",
        "So, let's use vmap:"
      ]
    },
    {
      "cell_type": "code",
      "metadata": {
        "id": "pCkHdY0mSGTc"
      },
      "source": [
        "batched_func = jax.vmap(func)"
      ],
      "execution_count": 20,
      "outputs": []
    },
    {
      "cell_type": "code",
      "metadata": {
        "colab": {
          "base_uri": "https://localhost:8080/"
        },
        "id": "KWnbNgiFVvAA",
        "outputId": "a35d18e5-91c1-40e5-b95a-51f0c04a1fb1"
      },
      "source": [
        "batched_func(A2,B2).shape"
      ],
      "execution_count": 21,
      "outputs": [
        {
          "output_type": "execute_result",
          "data": {
            "text/plain": [
              "(10, 500, 500)"
            ]
          },
          "metadata": {},
          "execution_count": 21
        }
      ]
    },
    {
      "cell_type": "markdown",
      "metadata": {
        "id": "L9jRHr1fVzd9"
      },
      "source": [
        "Boom :-) We just turned a function designed to work on a single example of matrices into a batched function.\n",
        "\n",
        "And you can also compose jit and vmap"
      ]
    },
    {
      "cell_type": "code",
      "metadata": {
        "id": "9Qpr2NKjVu7a"
      },
      "source": [
        "cool_func = jax.jit(jax.vmap(func))"
      ],
      "execution_count": 22,
      "outputs": []
    },
    {
      "cell_type": "code",
      "metadata": {
        "colab": {
          "base_uri": "https://localhost:8080/"
        },
        "id": "w6QrYek9WIgi",
        "outputId": "e7458dba-1050-46de-e6f3-a0a606348069"
      },
      "source": [
        "cool_func(A2,B2)\n",
        "%timeit cool_func(A2,B2).block_until_ready()"
      ],
      "execution_count": 23,
      "outputs": [
        {
          "output_type": "stream",
          "name": "stdout",
          "text": [
            "1.56 ms ± 9.56 µs per loop (mean ± std. dev. of 7 runs, 1000 loops each)\n"
          ]
        }
      ]
    },
    {
      "cell_type": "markdown",
      "metadata": {
        "id": "KTTg_27xWe6f"
      },
      "source": [
        "Note that this takes less than 10 times the execution time of a single instance."
      ]
    },
    {
      "cell_type": "markdown",
      "metadata": {
        "id": "79WZ7_TaXI0o"
      },
      "source": [
        "#### Getting gradients with grad, jacfwd\n",
        "\n",
        "Obviously, one of the things we care about the most here are gradients, so let's give it a try."
      ]
    },
    {
      "cell_type": "markdown",
      "source": [
        "[**Automatic differentation**](https://en.wikipedia.org/wiki/Automatic_differentiation) is performed by decomposing a function into compositions of fundamental functions of which we know the derivative:\n",
        "\n",
        "![image.png](data:image/png;base64,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)\n",
        "\n",
        "The chain rule gives\n",
        "\n",
        "![image.png](data:image/png;base64,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)"
      ],
      "metadata": {
        "id": "uy4Bp31d7B5N"
      }
    },
    {
      "cell_type": "code",
      "metadata": {
        "id": "MbHuQ3jlWeZH"
      },
      "source": [
        "# I'm gonna create an array of some parameters\n",
        "params = jax.random.normal(key1, shape=[500])\n",
        "\n",
        "def f(params, A, B):\n",
        "  C = np.dot(A, B)\n",
        "  C = np.where(C>0, C, 0)\n",
        "  return np.sum(C.dot(params)**2)"
      ],
      "execution_count": 24,
      "outputs": []
    },
    {
      "cell_type": "code",
      "metadata": {
        "colab": {
          "base_uri": "https://localhost:8080/"
        },
        "id": "Buq0kRr2WIdE",
        "outputId": "7f5b2f04-7a22-4be5-b622-abe709a62305"
      },
      "source": [
        "f(params, A, B) # Ok so this function does something, ok:"
      ],
      "execution_count": 25,
      "outputs": [
        {
          "output_type": "execute_result",
          "data": {
            "text/plain": [
              "DeviceArray(3.8737728e+08, dtype=float32)"
            ]
          },
          "metadata": {},
          "execution_count": 25
        }
      ]
    },
    {
      "cell_type": "markdown",
      "metadata": {
        "id": "Ns9WslCzYHq4"
      },
      "source": [
        "Let me take the derivative of this function. jax.grad will compute the derivative of this function with respect to the first argument of f:"
      ]
    },
    {
      "cell_type": "code",
      "metadata": {
        "id": "AauNAYxMYHWV"
      },
      "source": [
        "df_dx = jax.grad(f)"
      ],
      "execution_count": 26,
      "outputs": []
    },
    {
      "cell_type": "code",
      "metadata": {
        "colab": {
          "base_uri": "https://localhost:8080/"
        },
        "id": "mXplLV8rIsBe",
        "outputId": "dd0f4e24-4c32-4edc-95d1-b371cde0fc66"
      },
      "source": [
        "df_dx"
      ],
      "execution_count": 27,
      "outputs": [
        {
          "output_type": "execute_result",
          "data": {
            "text/plain": [
              "<function __main__.f(params, A, B)>"
            ]
          },
          "metadata": {},
          "execution_count": 27
        }
      ]
    },
    {
      "cell_type": "code",
      "metadata": {
        "id": "743KyFaqVu3X"
      },
      "source": [
        "g = df_dx(params, A, B)"
      ],
      "execution_count": 28,
      "outputs": []
    },
    {
      "cell_type": "code",
      "metadata": {
        "colab": {
          "base_uri": "https://localhost:8080/"
        },
        "id": "K9KsAfJSSGQQ",
        "outputId": "62528c02-11fb-486d-89d2-e38613b4f7bc"
      },
      "source": [
        "g.shape # And we can check that the grad has the same dimensionality as the\n",
        "        # input array"
      ],
      "execution_count": 29,
      "outputs": [
        {
          "output_type": "execute_result",
          "data": {
            "text/plain": [
              "(500,)"
            ]
          },
          "metadata": {},
          "execution_count": 29
        }
      ]
    },
    {
      "cell_type": "markdown",
      "metadata": {
        "id": "xctoRrF6YsJS"
      },
      "source": [
        "But what happens if I want to take the Jacobian of a  non scalar function? Well, let's just use jax.jacobian"
      ]
    },
    {
      "cell_type": "code",
      "metadata": {
        "id": "CG6CslaBYs5u"
      },
      "source": [
        "def f2(params, A, B):\n",
        "  C = np.dot(A, B)\n",
        "  return C.dot(params**2)"
      ],
      "execution_count": 30,
      "outputs": []
    },
    {
      "cell_type": "code",
      "metadata": {
        "colab": {
          "base_uri": "https://localhost:8080/"
        },
        "id": "tQoNJdLJYsmu",
        "outputId": "12c7e5ce-c8e0-4653-bdb3-68bd3e06b0e8"
      },
      "source": [
        "f2(params, A, B).shape"
      ],
      "execution_count": 31,
      "outputs": [
        {
          "output_type": "execute_result",
          "data": {
            "text/plain": [
              "(500,)"
            ]
          },
          "metadata": {},
          "execution_count": 31
        }
      ]
    },
    {
      "cell_type": "code",
      "metadata": {
        "id": "NsNzsx2GZC4g"
      },
      "source": [
        "df2_dx = jax.jacobian(f2)"
      ],
      "execution_count": 32,
      "outputs": []
    },
    {
      "cell_type": "code",
      "metadata": {
        "colab": {
          "base_uri": "https://localhost:8080/"
        },
        "id": "AD5hI0w0ZC0M",
        "outputId": "ff7910bd-0298-4cef-f01e-3234f84ffb6b"
      },
      "source": [
        "df2_dx(params, A, B).shape"
      ],
      "execution_count": 33,
      "outputs": [
        {
          "output_type": "execute_result",
          "data": {
            "text/plain": [
              "(500, 500)"
            ]
          },
          "metadata": {},
          "execution_count": 33
        }
      ]
    },
    {
      "cell_type": "markdown",
      "metadata": {
        "id": "xA6jpGo5ZQ_9"
      },
      "source": [
        "Boom, we have computed:\n",
        "![image.png](data:image/png;base64,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)\n"
      ]
    },
    {
      "cell_type": "markdown",
      "metadata": {
        "id": "fFE8ZQ1IbDCf"
      },
      "source": [
        "But that's not all :-) You can compose gradients! For instance:"
      ]
    },
    {
      "cell_type": "code",
      "metadata": {
        "id": "5d2S0Nx5bBrE"
      },
      "source": [
        "dfunc_dx = jax.grad(lambda x, A, B: np.sum(jax.jacobian(f2)(x, A, B)))"
      ],
      "execution_count": 34,
      "outputs": []
    },
    {
      "cell_type": "code",
      "metadata": {
        "colab": {
          "base_uri": "https://localhost:8080/"
        },
        "id": "38vqT693b1QC",
        "outputId": "8f343021-1d17-49b6-eabb-74f01d6fd8f3"
      },
      "source": [
        "dfunc_dx(params, A, B).shape"
      ],
      "execution_count": 35,
      "outputs": [
        {
          "output_type": "execute_result",
          "data": {
            "text/plain": [
              "(500,)"
            ]
          },
          "metadata": {},
          "execution_count": 35
        }
      ]
    },
    {
      "cell_type": "markdown",
      "metadata": {
        "id": "kFyDMwgZdISI"
      },
      "source": [
        "This is for instance what we used in the tomo challenge to get gradients of the Fisher matrix ;-) "
      ]
    },
    {
      "cell_type": "markdown",
      "metadata": {
        "id": "7b2fBmLMZ4lT"
      },
      "source": [
        "**Something to know about autodiff**: There are two types of autodiff, **forward** and **backward** automatic differentiation. JAX supports both, and you should know the  following:\n",
        "- backward autodiff is good when `f` has small dimensionality of output (because it computes vector-jacobian-products `vjp`)\n",
        "- forward autodiff is good when `f` has small dimensionality of input\n",
        "(because it computes jacobian-vector-products `jvp`)\n",
        "\n",
        "Depending on the relative size of inputs and outputs, you may prefer the dedicated `jax.jacfwd` and `jax.jacrev`\n",
        "\n",
        "Check the [autodiff cookbook](https://jax.readthedocs.io/en/latest/notebooks/autodiff_cookbook.html#) to know more."
      ]
    },
    {
      "cell_type": "markdown",
      "metadata": {
        "id": "vNTCXbopdW1z"
      },
      "source": [
        "\n",
        "## Where will JAX suprise you?\n",
        "\n",
        "As mentioned in the previous section, to get all of this goodness, JAX needs to\n",
        "make some assumptions, which may change a little bit from your habits, and therefore can suprise you at first."
      ]
    },
    {
      "cell_type": "markdown",
      "metadata": {
        "id": "FcOxOUSUP-aX"
      },
      "source": [
        "#### JAX wants pure functions\n",
        "\n",
        "JAX is based on a purely functional approach, with no side effects. A pure function is a function where the output only depends on the inputs of the function.\n",
        "\n",
        "Let's see what we mean by that by creating a simple jitted function:"
      ]
    },
    {
      "cell_type": "code",
      "metadata": {
        "id": "o1clGkW9d8Ui"
      },
      "source": [
        "@jax.jit\n",
        "def my_func(x):\n",
        "  print(\"Baguette\")\n",
        "  return 2*np.abs(x)"
      ],
      "execution_count": 36,
      "outputs": []
    },
    {
      "cell_type": "code",
      "metadata": {
        "colab": {
          "base_uri": "https://localhost:8080/"
        },
        "id": "wKORuXW3eF7f",
        "outputId": "4c5fa1a5-555e-4a80-c9b3-0ed7e8fee104"
      },
      "source": [
        "y = my_func(0) # The first time I execute it I get:"
      ],
      "execution_count": 37,
      "outputs": [
        {
          "output_type": "stream",
          "name": "stdout",
          "text": [
            "Baguette\n"
          ]
        }
      ]
    },
    {
      "cell_type": "code",
      "metadata": {
        "id": "U7mQv1h7eF4m"
      },
      "source": [
        "y = my_func(1) #  Second time: I see no print!"
      ],
      "execution_count": 38,
      "outputs": []
    },
    {
      "cell_type": "code",
      "metadata": {
        "colab": {
          "base_uri": "https://localhost:8080/"
        },
        "id": "JLRVVkrmeF1O",
        "outputId": "14bab171-673d-4d4d-d67f-5ff9de9b8383"
      },
      "source": [
        "y = my_func(2.0) # Third time: The print is back???"
      ],
      "execution_count": 39,
      "outputs": [
        {
          "output_type": "stream",
          "name": "stdout",
          "text": [
            "Baguette\n"
          ]
        }
      ]
    },
    {
      "cell_type": "markdown",
      "metadata": {
        "id": "h8K95kzEen1-"
      },
      "source": [
        "This is because print is a `side effect` and not actually something that depends on the input and affects the output, so it is not included in the compiled graph, it only shows up when JAX traces the function to recompile it.\n",
        "\n",
        "The fact that the third time work again is because JAX detected that the function was being applied on a float now, instead of an int, so it recompiles the function for float inputs."
      ]
    },
    {
      "cell_type": "markdown",
      "metadata": {
        "id": "nOwNV1QvfnlH"
      },
      "source": [
        "#### Your code encounters a tracer instead of an actual value"
      ]
    },
    {
      "cell_type": "markdown",
      "metadata": {
        "id": "g5pJ9Gl6fXPw"
      },
      "source": [
        "Another example of something suprising:"
      ]
    },
    {
      "cell_type": "code",
      "metadata": {
        "id": "a5kikaW4fWBy"
      },
      "source": [
        "@jax.jit\n",
        "def myfun(x):\n",
        "  if x > 1:\n",
        "    y = 0\n",
        "  else:\n",
        "    y = x\n",
        "  return y"
      ],
      "execution_count": 40,
      "outputs": []
    },
    {
      "cell_type": "code",
      "metadata": {
        "id": "pK-ZQoUFfV_Q",
        "colab": {
          "base_uri": "https://localhost:8080/",
          "height": 716
        },
        "outputId": "7ff07026-3449-45e7-fda4-1c70f565814b"
      },
      "source": [
        "myfun(1)"
      ],
      "execution_count": 41,
      "outputs": [
        {
          "output_type": "error",
          "ename": "ConcretizationTypeError",
          "evalue": "ignored",
          "traceback": [
            "\u001b[0;31m---------------------------------------------------------------------------\u001b[0m",
            "\u001b[0;31mUnfilteredStackTrace\u001b[0m                      Traceback (most recent call last)",
            "\u001b[0;32m<ipython-input-41-1ad541f2fbfd>\u001b[0m in \u001b[0;36m<module>\u001b[0;34m\u001b[0m\n\u001b[0;32m----> 1\u001b[0;31m \u001b[0mmyfun\u001b[0m\u001b[0;34m(\u001b[0m\u001b[0;36m1\u001b[0m\u001b[0;34m)\u001b[0m\u001b[0;34m\u001b[0m\u001b[0;34m\u001b[0m\u001b[0m\n\u001b[0m",
            "\u001b[0;32m/usr/local/lib/python3.8/dist-packages/jax/_src/traceback_util.py\u001b[0m in \u001b[0;36mreraise_with_filtered_traceback\u001b[0;34m(*args, **kwargs)\u001b[0m\n\u001b[1;32m    161\u001b[0m     \u001b[0;32mtry\u001b[0m\u001b[0;34m:\u001b[0m\u001b[0;34m\u001b[0m\u001b[0;34m\u001b[0m\u001b[0m\n\u001b[0;32m--> 162\u001b[0;31m       \u001b[0;32mreturn\u001b[0m \u001b[0mfun\u001b[0m\u001b[0;34m(\u001b[0m\u001b[0;34m*\u001b[0m\u001b[0margs\u001b[0m\u001b[0;34m,\u001b[0m \u001b[0;34m**\u001b[0m\u001b[0mkwargs\u001b[0m\u001b[0;34m)\u001b[0m\u001b[0;34m\u001b[0m\u001b[0;34m\u001b[0m\u001b[0m\n\u001b[0m\u001b[1;32m    163\u001b[0m     \u001b[0;32mexcept\u001b[0m \u001b[0mException\u001b[0m \u001b[0;32mas\u001b[0m \u001b[0me\u001b[0m\u001b[0;34m:\u001b[0m\u001b[0;34m\u001b[0m\u001b[0;34m\u001b[0m\u001b[0m\n",
            "\u001b[0;32m/usr/local/lib/python3.8/dist-packages/jax/_src/api.py\u001b[0m in \u001b[0;36mcache_miss\u001b[0;34m(*args, **kwargs)\u001b[0m\n\u001b[1;32m    621\u001b[0m         jax.config.jax_debug_nans or jax.config.jax_debug_infs):\n\u001b[0;32m--> 622\u001b[0;31m       \u001b[0mexecute\u001b[0m \u001b[0;34m=\u001b[0m \u001b[0mdispatch\u001b[0m\u001b[0;34m.\u001b[0m\u001b[0m_xla_call_impl_lazy\u001b[0m\u001b[0;34m(\u001b[0m\u001b[0mfun_\u001b[0m\u001b[0;34m,\u001b[0m \u001b[0;34m*\u001b[0m\u001b[0mtracers\u001b[0m\u001b[0;34m,\u001b[0m \u001b[0;34m**\u001b[0m\u001b[0mparams\u001b[0m\u001b[0;34m)\u001b[0m\u001b[0;34m\u001b[0m\u001b[0;34m\u001b[0m\u001b[0m\n\u001b[0m\u001b[1;32m    623\u001b[0m       \u001b[0mout_flat\u001b[0m \u001b[0;34m=\u001b[0m \u001b[0mcall_bind_continuation\u001b[0m\u001b[0;34m(\u001b[0m\u001b[0mexecute\u001b[0m\u001b[0;34m(\u001b[0m\u001b[0;34m*\u001b[0m\u001b[0margs_flat\u001b[0m\u001b[0;34m)\u001b[0m\u001b[0;34m)\u001b[0m\u001b[0;34m\u001b[0m\u001b[0;34m\u001b[0m\u001b[0m\n",
            "\u001b[0;32m/usr/local/lib/python3.8/dist-packages/jax/_src/dispatch.py\u001b[0m in \u001b[0;36m_xla_call_impl_lazy\u001b[0;34m(***failed resolving arguments***)\u001b[0m\n\u001b[1;32m    235\u001b[0m     \u001b[0marg_specs\u001b[0m \u001b[0;34m=\u001b[0m \u001b[0;34m[\u001b[0m\u001b[0;34m(\u001b[0m\u001b[0;32mNone\u001b[0m\u001b[0;34m,\u001b[0m \u001b[0mgetattr\u001b[0m\u001b[0;34m(\u001b[0m\u001b[0mx\u001b[0m\u001b[0;34m,\u001b[0m \u001b[0;34m'_device'\u001b[0m\u001b[0;34m,\u001b[0m \u001b[0;32mNone\u001b[0m\u001b[0;34m)\u001b[0m\u001b[0;34m)\u001b[0m \u001b[0;32mfor\u001b[0m \u001b[0mx\u001b[0m \u001b[0;32min\u001b[0m \u001b[0margs\u001b[0m\u001b[0;34m]\u001b[0m\u001b[0;34m\u001b[0m\u001b[0;34m\u001b[0m\u001b[0m\n\u001b[0;32m--> 236\u001b[0;31m   return xla_callable(fun, device, backend, name, donated_invars, keep_unused,\n\u001b[0m\u001b[1;32m    237\u001b[0m                       *arg_specs)\n",
            "\u001b[0;32m/usr/local/lib/python3.8/dist-packages/jax/linear_util.py\u001b[0m in \u001b[0;36mmemoized_fun\u001b[0;34m(fun, *args)\u001b[0m\n\u001b[1;32m    302\u001b[0m     \u001b[0;32melse\u001b[0m\u001b[0;34m:\u001b[0m\u001b[0;34m\u001b[0m\u001b[0;34m\u001b[0m\u001b[0m\n\u001b[0;32m--> 303\u001b[0;31m       \u001b[0mans\u001b[0m \u001b[0;34m=\u001b[0m \u001b[0mcall\u001b[0m\u001b[0;34m(\u001b[0m\u001b[0mfun\u001b[0m\u001b[0;34m,\u001b[0m \u001b[0;34m*\u001b[0m\u001b[0margs\u001b[0m\u001b[0;34m)\u001b[0m\u001b[0;34m\u001b[0m\u001b[0;34m\u001b[0m\u001b[0m\n\u001b[0m\u001b[1;32m    304\u001b[0m       \u001b[0mcache\u001b[0m\u001b[0;34m[\u001b[0m\u001b[0mkey\u001b[0m\u001b[0;34m]\u001b[0m \u001b[0;34m=\u001b[0m \u001b[0;34m(\u001b[0m\u001b[0mans\u001b[0m\u001b[0;34m,\u001b[0m \u001b[0mfun\u001b[0m\u001b[0;34m.\u001b[0m\u001b[0mstores\u001b[0m\u001b[0;34m)\u001b[0m\u001b[0;34m\u001b[0m\u001b[0;34m\u001b[0m\u001b[0m\n",
            "\u001b[0;32m/usr/local/lib/python3.8/dist-packages/jax/_src/dispatch.py\u001b[0m in \u001b[0;36m_xla_callable_uncached\u001b[0;34m(fun, device, backend, name, donated_invars, keep_unused, *arg_specs)\u001b[0m\n\u001b[1;32m    358\u001b[0m   \u001b[0;32melse\u001b[0m\u001b[0;34m:\u001b[0m\u001b[0;34m\u001b[0m\u001b[0;34m\u001b[0m\u001b[0m\n\u001b[0;32m--> 359\u001b[0;31m     return lower_xla_callable(fun, device, backend, name, donated_invars, False,\n\u001b[0m\u001b[1;32m    360\u001b[0m                               keep_unused, *arg_specs).compile().unsafe_call\n",
            "\u001b[0;32m/usr/local/lib/python3.8/dist-packages/jax/_src/profiler.py\u001b[0m in \u001b[0;36mwrapper\u001b[0;34m(*args, **kwargs)\u001b[0m\n\u001b[1;32m    313\u001b[0m     \u001b[0;32mwith\u001b[0m \u001b[0mTraceAnnotation\u001b[0m\u001b[0;34m(\u001b[0m\u001b[0mname\u001b[0m\u001b[0;34m,\u001b[0m \u001b[0;34m**\u001b[0m\u001b[0mdecorator_kwargs\u001b[0m\u001b[0;34m)\u001b[0m\u001b[0;34m:\u001b[0m\u001b[0;34m\u001b[0m\u001b[0;34m\u001b[0m\u001b[0m\n\u001b[0;32m--> 314\u001b[0;31m       \u001b[0;32mreturn\u001b[0m \u001b[0mfunc\u001b[0m\u001b[0;34m(\u001b[0m\u001b[0;34m*\u001b[0m\u001b[0margs\u001b[0m\u001b[0;34m,\u001b[0m \u001b[0;34m**\u001b[0m\u001b[0mkwargs\u001b[0m\u001b[0;34m)\u001b[0m\u001b[0;34m\u001b[0m\u001b[0;34m\u001b[0m\u001b[0m\n\u001b[0m\u001b[1;32m    315\u001b[0m     \u001b[0;32mreturn\u001b[0m \u001b[0mwrapper\u001b[0m\u001b[0;34m\u001b[0m\u001b[0;34m\u001b[0m\u001b[0m\n",
            "\u001b[0;32m/usr/local/lib/python3.8/dist-packages/jax/_src/dispatch.py\u001b[0m in \u001b[0;36mlower_xla_callable\u001b[0;34m(fun, device, backend, name, donated_invars, always_lower, keep_unused, *arg_specs)\u001b[0m\n\u001b[1;32m    444\u001b[0m                         \"for jit in {elapsed_time} sec\"):\n\u001b[0;32m--> 445\u001b[0;31m     jaxpr, out_type, consts = pe.trace_to_jaxpr_final2(\n\u001b[0m\u001b[1;32m    446\u001b[0m         fun, pe.debug_info_final(fun, \"jit\"))\n",
            "\u001b[0;32m/usr/local/lib/python3.8/dist-packages/jax/_src/profiler.py\u001b[0m in \u001b[0;36mwrapper\u001b[0;34m(*args, **kwargs)\u001b[0m\n\u001b[1;32m    313\u001b[0m     \u001b[0;32mwith\u001b[0m \u001b[0mTraceAnnotation\u001b[0m\u001b[0;34m(\u001b[0m\u001b[0mname\u001b[0m\u001b[0;34m,\u001b[0m \u001b[0;34m**\u001b[0m\u001b[0mdecorator_kwargs\u001b[0m\u001b[0;34m)\u001b[0m\u001b[0;34m:\u001b[0m\u001b[0;34m\u001b[0m\u001b[0;34m\u001b[0m\u001b[0m\n\u001b[0;32m--> 314\u001b[0;31m       \u001b[0;32mreturn\u001b[0m \u001b[0mfunc\u001b[0m\u001b[0;34m(\u001b[0m\u001b[0;34m*\u001b[0m\u001b[0margs\u001b[0m\u001b[0;34m,\u001b[0m \u001b[0;34m**\u001b[0m\u001b[0mkwargs\u001b[0m\u001b[0;34m)\u001b[0m\u001b[0;34m\u001b[0m\u001b[0;34m\u001b[0m\u001b[0m\n\u001b[0m\u001b[1;32m    315\u001b[0m     \u001b[0;32mreturn\u001b[0m \u001b[0mwrapper\u001b[0m\u001b[0;34m\u001b[0m\u001b[0;34m\u001b[0m\u001b[0m\n",
            "\u001b[0;32m/usr/local/lib/python3.8/dist-packages/jax/interpreters/partial_eval.py\u001b[0m in \u001b[0;36mtrace_to_jaxpr_final2\u001b[0;34m(fun, debug_info)\u001b[0m\n\u001b[1;32m   2076\u001b[0m     \u001b[0;32mwith\u001b[0m \u001b[0mcore\u001b[0m\u001b[0;34m.\u001b[0m\u001b[0mnew_sublevel\u001b[0m\u001b[0;34m(\u001b[0m\u001b[0;34m)\u001b[0m\u001b[0;34m:\u001b[0m\u001b[0;34m\u001b[0m\u001b[0;34m\u001b[0m\u001b[0m\n\u001b[0;32m-> 2077\u001b[0;31m       \u001b[0mjaxpr\u001b[0m\u001b[0;34m,\u001b[0m \u001b[0mout_type\u001b[0m\u001b[0;34m,\u001b[0m \u001b[0mconsts\u001b[0m \u001b[0;34m=\u001b[0m \u001b[0mtrace_to_subjaxpr_dynamic2\u001b[0m\u001b[0;34m(\u001b[0m\u001b[0mfun\u001b[0m\u001b[0;34m,\u001b[0m \u001b[0mmain\u001b[0m\u001b[0;34m,\u001b[0m \u001b[0mdebug_info\u001b[0m\u001b[0;34m)\u001b[0m\u001b[0;34m\u001b[0m\u001b[0;34m\u001b[0m\u001b[0m\n\u001b[0m\u001b[1;32m   2078\u001b[0m     \u001b[0;32mdel\u001b[0m \u001b[0mfun\u001b[0m\u001b[0;34m,\u001b[0m \u001b[0mmain\u001b[0m\u001b[0;34m\u001b[0m\u001b[0;34m\u001b[0m\u001b[0m\n",
            "\u001b[0;32m/usr/local/lib/python3.8/dist-packages/jax/interpreters/partial_eval.py\u001b[0m in \u001b[0;36mtrace_to_subjaxpr_dynamic2\u001b[0;34m(fun, main, debug_info)\u001b[0m\n\u001b[1;32m   2026\u001b[0m     \u001b[0min_tracers_\u001b[0m \u001b[0;34m=\u001b[0m \u001b[0;34m[\u001b[0m\u001b[0mt\u001b[0m \u001b[0;32mfor\u001b[0m \u001b[0mt\u001b[0m\u001b[0;34m,\u001b[0m \u001b[0mkeep\u001b[0m \u001b[0;32min\u001b[0m \u001b[0mzip\u001b[0m\u001b[0;34m(\u001b[0m\u001b[0min_tracers\u001b[0m\u001b[0;34m,\u001b[0m \u001b[0mkeep_inputs\u001b[0m\u001b[0;34m)\u001b[0m \u001b[0;32mif\u001b[0m \u001b[0mkeep\u001b[0m\u001b[0;34m]\u001b[0m\u001b[0;34m\u001b[0m\u001b[0;34m\u001b[0m\u001b[0m\n\u001b[0;32m-> 2027\u001b[0;31m     \u001b[0mans\u001b[0m \u001b[0;34m=\u001b[0m \u001b[0mfun\u001b[0m\u001b[0;34m.\u001b[0m\u001b[0mcall_wrapped\u001b[0m\u001b[0;34m(\u001b[0m\u001b[0;34m*\u001b[0m\u001b[0min_tracers_\u001b[0m\u001b[0;34m)\u001b[0m\u001b[0;34m\u001b[0m\u001b[0;34m\u001b[0m\u001b[0m\n\u001b[0m\u001b[1;32m   2028\u001b[0m     \u001b[0mout_tracers\u001b[0m \u001b[0;34m=\u001b[0m \u001b[0mmap\u001b[0m\u001b[0;34m(\u001b[0m\u001b[0mtrace\u001b[0m\u001b[0;34m.\u001b[0m\u001b[0mfull_raise\u001b[0m\u001b[0;34m,\u001b[0m \u001b[0mans\u001b[0m\u001b[0;34m)\u001b[0m\u001b[0;34m\u001b[0m\u001b[0;34m\u001b[0m\u001b[0m\n",
            "\u001b[0;32m/usr/local/lib/python3.8/dist-packages/jax/linear_util.py\u001b[0m in \u001b[0;36mcall_wrapped\u001b[0;34m(self, *args, **kwargs)\u001b[0m\n\u001b[1;32m    166\u001b[0m     \u001b[0;32mtry\u001b[0m\u001b[0;34m:\u001b[0m\u001b[0;34m\u001b[0m\u001b[0;34m\u001b[0m\u001b[0m\n\u001b[0;32m--> 167\u001b[0;31m       \u001b[0mans\u001b[0m \u001b[0;34m=\u001b[0m \u001b[0mself\u001b[0m\u001b[0;34m.\u001b[0m\u001b[0mf\u001b[0m\u001b[0;34m(\u001b[0m\u001b[0;34m*\u001b[0m\u001b[0margs\u001b[0m\u001b[0;34m,\u001b[0m \u001b[0;34m**\u001b[0m\u001b[0mdict\u001b[0m\u001b[0;34m(\u001b[0m\u001b[0mself\u001b[0m\u001b[0;34m.\u001b[0m\u001b[0mparams\u001b[0m\u001b[0;34m,\u001b[0m \u001b[0;34m**\u001b[0m\u001b[0mkwargs\u001b[0m\u001b[0;34m)\u001b[0m\u001b[0;34m)\u001b[0m\u001b[0;34m\u001b[0m\u001b[0;34m\u001b[0m\u001b[0m\n\u001b[0m\u001b[1;32m    168\u001b[0m     \u001b[0;32mexcept\u001b[0m\u001b[0;34m:\u001b[0m\u001b[0;34m\u001b[0m\u001b[0;34m\u001b[0m\u001b[0m\n",
            "\u001b[0;32m<ipython-input-40-932e296bb878>\u001b[0m in \u001b[0;36mmyfun\u001b[0;34m(x)\u001b[0m\n\u001b[1;32m      2\u001b[0m \u001b[0;32mdef\u001b[0m \u001b[0mmyfun\u001b[0m\u001b[0;34m(\u001b[0m\u001b[0mx\u001b[0m\u001b[0;34m)\u001b[0m\u001b[0;34m:\u001b[0m\u001b[0;34m\u001b[0m\u001b[0;34m\u001b[0m\u001b[0m\n\u001b[0;32m----> 3\u001b[0;31m   \u001b[0;32mif\u001b[0m \u001b[0mx\u001b[0m \u001b[0;34m>\u001b[0m \u001b[0;36m1\u001b[0m\u001b[0;34m:\u001b[0m\u001b[0;34m\u001b[0m\u001b[0;34m\u001b[0m\u001b[0m\n\u001b[0m\u001b[1;32m      4\u001b[0m     \u001b[0my\u001b[0m \u001b[0;34m=\u001b[0m \u001b[0;36m0\u001b[0m\u001b[0;34m\u001b[0m\u001b[0;34m\u001b[0m\u001b[0m\n",
            "\u001b[0;32m/usr/local/lib/python3.8/dist-packages/jax/core.py\u001b[0m in \u001b[0;36m__bool__\u001b[0;34m(self)\u001b[0m\n\u001b[1;32m    633\u001b[0m   \u001b[0;32mdef\u001b[0m \u001b[0m__nonzero__\u001b[0m\u001b[0;34m(\u001b[0m\u001b[0mself\u001b[0m\u001b[0;34m)\u001b[0m\u001b[0;34m:\u001b[0m \u001b[0;32mreturn\u001b[0m \u001b[0mself\u001b[0m\u001b[0;34m.\u001b[0m\u001b[0maval\u001b[0m\u001b[0;34m.\u001b[0m\u001b[0m_nonzero\u001b[0m\u001b[0;34m(\u001b[0m\u001b[0mself\u001b[0m\u001b[0;34m)\u001b[0m\u001b[0;34m\u001b[0m\u001b[0;34m\u001b[0m\u001b[0m\n\u001b[0;32m--> 634\u001b[0;31m   \u001b[0;32mdef\u001b[0m \u001b[0m__bool__\u001b[0m\u001b[0;34m(\u001b[0m\u001b[0mself\u001b[0m\u001b[0;34m)\u001b[0m\u001b[0;34m:\u001b[0m \u001b[0;32mreturn\u001b[0m \u001b[0mself\u001b[0m\u001b[0;34m.\u001b[0m\u001b[0maval\u001b[0m\u001b[0;34m.\u001b[0m\u001b[0m_bool\u001b[0m\u001b[0;34m(\u001b[0m\u001b[0mself\u001b[0m\u001b[0;34m)\u001b[0m\u001b[0;34m\u001b[0m\u001b[0;34m\u001b[0m\u001b[0m\n\u001b[0m\u001b[1;32m    635\u001b[0m   \u001b[0;32mdef\u001b[0m \u001b[0m__int__\u001b[0m\u001b[0;34m(\u001b[0m\u001b[0mself\u001b[0m\u001b[0;34m)\u001b[0m\u001b[0;34m:\u001b[0m \u001b[0;32mreturn\u001b[0m \u001b[0mself\u001b[0m\u001b[0;34m.\u001b[0m\u001b[0maval\u001b[0m\u001b[0;34m.\u001b[0m\u001b[0m_int\u001b[0m\u001b[0;34m(\u001b[0m\u001b[0mself\u001b[0m\u001b[0;34m)\u001b[0m\u001b[0;34m\u001b[0m\u001b[0;34m\u001b[0m\u001b[0m\n",
            "\u001b[0;32m/usr/local/lib/python3.8/dist-packages/jax/core.py\u001b[0m in \u001b[0;36merror\u001b[0;34m(self, arg)\u001b[0m\n\u001b[1;32m   1266\u001b[0m   \u001b[0;32mdef\u001b[0m \u001b[0merror\u001b[0m\u001b[0;34m(\u001b[0m\u001b[0mself\u001b[0m\u001b[0;34m,\u001b[0m \u001b[0marg\u001b[0m\u001b[0;34m)\u001b[0m\u001b[0;34m:\u001b[0m\u001b[0;34m\u001b[0m\u001b[0;34m\u001b[0m\u001b[0m\n\u001b[0;32m-> 1267\u001b[0;31m     \u001b[0;32mraise\u001b[0m \u001b[0mConcretizationTypeError\u001b[0m\u001b[0;34m(\u001b[0m\u001b[0marg\u001b[0m\u001b[0;34m,\u001b[0m \u001b[0mfname_context\u001b[0m\u001b[0;34m)\u001b[0m\u001b[0;34m\u001b[0m\u001b[0;34m\u001b[0m\u001b[0m\n\u001b[0m\u001b[1;32m   1268\u001b[0m   \u001b[0;32mreturn\u001b[0m \u001b[0merror\u001b[0m\u001b[0;34m\u001b[0m\u001b[0;34m\u001b[0m\u001b[0m\n",
            "\u001b[0;31mUnfilteredStackTrace\u001b[0m: jax._src.errors.ConcretizationTypeError: Abstract tracer value encountered where concrete value is expected: Traced<ShapedArray(bool[], weak_type=True)>with<DynamicJaxprTrace(level=0/1)>\nThe problem arose with the `bool` function. \nThe error occurred while tracing the function myfun at <ipython-input-40-932e296bb878>:1 for jit. This concrete value was not available in Python because it depends on the value of the argument 'x'.\n\nSee https://jax.readthedocs.io/en/latest/errors.html#jax.errors.ConcretizationTypeError\n\nThe stack trace below excludes JAX-internal frames.\nThe preceding is the original exception that occurred, unmodified.\n\n--------------------",
            "\nThe above exception was the direct cause of the following exception:\n",
            "\u001b[0;31mConcretizationTypeError\u001b[0m                   Traceback (most recent call last)",
            "\u001b[0;32m<ipython-input-41-1ad541f2fbfd>\u001b[0m in \u001b[0;36m<module>\u001b[0;34m\u001b[0m\n\u001b[0;32m----> 1\u001b[0;31m \u001b[0mmyfun\u001b[0m\u001b[0;34m(\u001b[0m\u001b[0;36m1\u001b[0m\u001b[0;34m)\u001b[0m\u001b[0;34m\u001b[0m\u001b[0;34m\u001b[0m\u001b[0m\n\u001b[0m",
            "\u001b[0;32m<ipython-input-40-932e296bb878>\u001b[0m in \u001b[0;36mmyfun\u001b[0;34m(x)\u001b[0m\n\u001b[1;32m      1\u001b[0m \u001b[0;34m@\u001b[0m\u001b[0mjax\u001b[0m\u001b[0;34m.\u001b[0m\u001b[0mjit\u001b[0m\u001b[0;34m\u001b[0m\u001b[0;34m\u001b[0m\u001b[0m\n\u001b[1;32m      2\u001b[0m \u001b[0;32mdef\u001b[0m \u001b[0mmyfun\u001b[0m\u001b[0;34m(\u001b[0m\u001b[0mx\u001b[0m\u001b[0;34m)\u001b[0m\u001b[0;34m:\u001b[0m\u001b[0;34m\u001b[0m\u001b[0;34m\u001b[0m\u001b[0m\n\u001b[0;32m----> 3\u001b[0;31m   \u001b[0;32mif\u001b[0m \u001b[0mx\u001b[0m \u001b[0;34m>\u001b[0m \u001b[0;36m1\u001b[0m\u001b[0;34m:\u001b[0m\u001b[0;34m\u001b[0m\u001b[0;34m\u001b[0m\u001b[0m\n\u001b[0m\u001b[1;32m      4\u001b[0m     \u001b[0my\u001b[0m \u001b[0;34m=\u001b[0m \u001b[0;36m0\u001b[0m\u001b[0;34m\u001b[0m\u001b[0;34m\u001b[0m\u001b[0m\n\u001b[1;32m      5\u001b[0m   \u001b[0;32melse\u001b[0m\u001b[0;34m:\u001b[0m\u001b[0;34m\u001b[0m\u001b[0;34m\u001b[0m\u001b[0m\n",
            "\u001b[0;31mConcretizationTypeError\u001b[0m: Abstract tracer value encountered where concrete value is expected: Traced<ShapedArray(bool[], weak_type=True)>with<DynamicJaxprTrace(level=0/1)>\nThe problem arose with the `bool` function. \nThe error occurred while tracing the function myfun at <ipython-input-40-932e296bb878>:1 for jit. This concrete value was not available in Python because it depends on the value of the argument 'x'.\n\nSee https://jax.readthedocs.io/en/latest/errors.html#jax.errors.ConcretizationTypeError"
          ]
        }
      ]
    },
    {
      "cell_type": "markdown",
      "metadata": {
        "id": "6XFvQaGxgHDQ"
      },
      "source": [
        "This doesnt work because when JAX traces the function, it records the execution of the function using an abstract \"tracer\" instead of a concrete tensor. If your code encouters something that doesn't know how to handle such a tracer, it will trigger an error. \n",
        "\n",
        "To fix this here, you need to use the jax NumPy API:"
      ]
    },
    {
      "cell_type": "code",
      "metadata": {
        "colab": {
          "base_uri": "https://localhost:8080/"
        },
        "id": "S2JdxX47fV6v",
        "outputId": "65c47648-c361-4a2e-9602-f6a417e2f708"
      },
      "source": [
        "@jax.jit\n",
        "def myfun(x):\n",
        "  y = np.where(x > 1, 0, x)\n",
        "  return y\n",
        "\n",
        "myfun(1)"
      ],
      "execution_count": 42,
      "outputs": [
        {
          "output_type": "execute_result",
          "data": {
            "text/plain": [
              "DeviceArray(1, dtype=int32, weak_type=True)"
            ]
          },
          "metadata": {},
          "execution_count": 42
        }
      ]
    },
    {
      "cell_type": "markdown",
      "metadata": {
        "id": "jO5I4OKUg8Pm"
      },
      "source": [
        "Or  use a lower level [jax.lax](https://jax.readthedocs.io/en/latest/jax.lax.html) control flow instruction. This is more advanced...\n",
        "\n",
        "Checkout [this part](https://jax.readthedocs.io/en/latest/notebooks/Common_Gotchas_in_JAX.html#structured-control-flow-primitives) of the JAX documentation maybe.\n",
        "\n",
        "\n",
        "$$\n",
        "\\begin{array} {r|rr} \n",
        "\\hline \\\n",
        "\\textrm{construct} \n",
        "& \\textrm{jit} \n",
        "& \\textrm{grad} \\\\\n",
        "\\hline \\\n",
        "\\textrm{if} & ❌ & ✔ \\\\\n",
        "\\textrm{for} & ✔* & ✔\\\\\n",
        "\\textrm{while} & ✔* & ✔\\\\\n",
        "\\textrm{lax.cond} & ✔ & ✔\\\\\n",
        "\\textrm{lax.while_loop} & ✔ & \\textrm{fwd}\\\\\n",
        "\\textrm{lax.fori_loop} & ✔ & \\textrm{fwd}\\\\\n",
        "\\textrm{lax.scan} & ✔ & ✔\\\\\n",
        "\\hline\n",
        "\\end{array}\n",
        "$$\n",
        "<center>$\\ast$ = argument-__value__-independent loop condition - unrolls the loop </center>\n",
        "\n"
      ]
    },
    {
      "cell_type": "markdown",
      "metadata": {
        "id": "0b6PfNRQHHJa"
      },
      "source": [
        "#### In JAX you can't assign values to an array"
      ]
    },
    {
      "cell_type": "code",
      "metadata": {
        "id": "ix8HADgW4GE8",
        "colab": {
          "base_uri": "https://localhost:8080/",
          "height": 332
        },
        "outputId": "4a34dd1d-c130-44f3-ec90-590176f2bf3c"
      },
      "source": [
        "myarray = np.arange(10)   # Let's create and array\n",
        "myarray[5] = 0            # And try to assign a value"
      ],
      "execution_count": 43,
      "outputs": [
        {
          "output_type": "error",
          "ename": "TypeError",
          "evalue": "ignored",
          "traceback": [
            "\u001b[0;31m---------------------------------------------------------------------------\u001b[0m",
            "\u001b[0;31mTypeError\u001b[0m                                 Traceback (most recent call last)",
            "\u001b[0;32m<ipython-input-43-535c70621bf3>\u001b[0m in \u001b[0;36m<module>\u001b[0;34m\u001b[0m\n\u001b[1;32m      1\u001b[0m \u001b[0mmyarray\u001b[0m \u001b[0;34m=\u001b[0m \u001b[0mnp\u001b[0m\u001b[0;34m.\u001b[0m\u001b[0marange\u001b[0m\u001b[0;34m(\u001b[0m\u001b[0;36m10\u001b[0m\u001b[0;34m)\u001b[0m   \u001b[0;31m# Let's create and array\u001b[0m\u001b[0;34m\u001b[0m\u001b[0;34m\u001b[0m\u001b[0m\n\u001b[0;32m----> 2\u001b[0;31m \u001b[0mmyarray\u001b[0m\u001b[0;34m[\u001b[0m\u001b[0;36m5\u001b[0m\u001b[0;34m]\u001b[0m \u001b[0;34m=\u001b[0m \u001b[0;36m0\u001b[0m            \u001b[0;31m# And try to assign a value\u001b[0m\u001b[0;34m\u001b[0m\u001b[0;34m\u001b[0m\u001b[0m\n\u001b[0m",
            "\u001b[0;32m/usr/local/lib/python3.8/dist-packages/jax/_src/numpy/lax_numpy.py\u001b[0m in \u001b[0;36m_unimplemented_setitem\u001b[0;34m(self, i, x)\u001b[0m\n\u001b[1;32m   4946\u001b[0m          \u001b[0;34m\"or another .at[] method: \"\u001b[0m\u001b[0;34m\u001b[0m\u001b[0;34m\u001b[0m\u001b[0m\n\u001b[1;32m   4947\u001b[0m          \"https://jax.readthedocs.io/en/latest/_autosummary/jax.numpy.ndarray.at.html\")\n\u001b[0;32m-> 4948\u001b[0;31m   \u001b[0;32mraise\u001b[0m \u001b[0mTypeError\u001b[0m\u001b[0;34m(\u001b[0m\u001b[0mmsg\u001b[0m\u001b[0;34m.\u001b[0m\u001b[0mformat\u001b[0m\u001b[0;34m(\u001b[0m\u001b[0mtype\u001b[0m\u001b[0;34m(\u001b[0m\u001b[0mself\u001b[0m\u001b[0;34m)\u001b[0m\u001b[0;34m)\u001b[0m\u001b[0;34m)\u001b[0m\u001b[0;34m\u001b[0m\u001b[0;34m\u001b[0m\u001b[0m\n\u001b[0m\u001b[1;32m   4949\u001b[0m \u001b[0;34m\u001b[0m\u001b[0m\n\u001b[1;32m   4950\u001b[0m \u001b[0;32mdef\u001b[0m \u001b[0m_operator_round\u001b[0m\u001b[0;34m(\u001b[0m\u001b[0mnumber\u001b[0m\u001b[0;34m:\u001b[0m \u001b[0mArrayLike\u001b[0m\u001b[0;34m,\u001b[0m \u001b[0mndigits\u001b[0m\u001b[0;34m:\u001b[0m \u001b[0mOptional\u001b[0m\u001b[0;34m[\u001b[0m\u001b[0mint\u001b[0m\u001b[0;34m]\u001b[0m \u001b[0;34m=\u001b[0m \u001b[0;32mNone\u001b[0m\u001b[0;34m)\u001b[0m \u001b[0;34m->\u001b[0m \u001b[0mArray\u001b[0m\u001b[0;34m:\u001b[0m\u001b[0;34m\u001b[0m\u001b[0;34m\u001b[0m\u001b[0m\n",
            "\u001b[0;31mTypeError\u001b[0m: '<class 'jaxlib.xla_extension.DeviceArray'>' object does not support item assignment. JAX arrays are immutable. Instead of ``x[idx] = y``, use ``x = x.at[idx].set(y)`` or another .at[] method: https://jax.readthedocs.io/en/latest/_autosummary/jax.numpy.ndarray.at.html"
          ]
        }
      ]
    },
    {
      "cell_type": "markdown",
      "metadata": {
        "id": "xoqnZZ6nIDZM"
      },
      "source": [
        "**The reason**: Allowing in-place mutation of variables makes the tracing difficult, so JAX doesn't allow it.\n",
        "\n",
        "**The solution**:\n",
        "- Most of the time, you don't need such assignement, and can rewrite this in other ways\n",
        "- If you really need to, you can use **functional** API tools like [index_update](https://jax.readthedocs.io/en/latest/_autosummary/jax.ops.index_update.html#jax.ops.index_update)"
      ]
    },
    {
      "cell_type": "code",
      "metadata": {
        "colab": {
          "base_uri": "https://localhost:8080/"
        },
        "id": "cziGl5JhI-A5",
        "outputId": "1005de08-74fb-4464-c2c9-117d3164664c"
      },
      "source": [
        "myarray = np.arange(10)\n",
        "print(\"Input     \", myarray)\n",
        "\n",
        "# Solution 1: We might want to set a value to zero because it's masked\n",
        "# in such a case, we can simply multiply the input array by a mask\n",
        "mask = np.where(myarray == 5,0,1) \n",
        "myarray1 = mask * myarray\n",
        "print(\"Solution 1\", myarray1)\n",
        "\n",
        "# Solution 2: If really you need to update, you can use jax.ops.index_update\n",
        "myarray2 = myarray.at[5].set(0.)\n",
        "print(\"Solution 2\", myarray2)"
      ],
      "execution_count": 46,
      "outputs": [
        {
          "output_type": "stream",
          "name": "stdout",
          "text": [
            "Input      [0 1 2 3 4 5 6 7 8 9]\n",
            "Solution 1 [0 1 2 3 4 0 6 7 8 9]\n"
          ]
        },
        {
          "output_type": "stream",
          "name": "stderr",
          "text": [
            "/usr/local/lib/python3.8/dist-packages/jax/_src/ops/scatter.py:87: FutureWarning: scatter inputs have incompatible types: cannot safely cast value from dtype=float32 to dtype=int32. In future JAX releases this will result in an error.\n",
            "  warnings.warn(\"scatter inputs have incompatible types: cannot safely cast \"\n"
          ]
        },
        {
          "output_type": "stream",
          "name": "stdout",
          "text": [
            "Solution 2 [0 1 2 3 4 0 6 7 8 9]\n"
          ]
        }
      ]
    },
    {
      "cell_type": "markdown",
      "metadata": {
        "id": "aVlmHGXJh4cU"
      },
      "source": [
        "## Autodiff showdown\n",
        "\n",
        "Here are a few cool examples of autodiff to compare against Julia.\n",
        "\n",
        "#### You can differentiate with respect to objects!\n",
        "\n",
        "This is not possible in TensorFlow for instance. So imagine this:"
      ]
    },
    {
      "cell_type": "code",
      "metadata": {
        "id": "57HUC-KaiOIN"
      },
      "source": [
        "def myfunc(cosmo):\n",
        "  return 2* cosmo[\"sigma8\"]**2 + 1"
      ],
      "execution_count": 47,
      "outputs": []
    },
    {
      "cell_type": "code",
      "metadata": {
        "id": "n2bgzNj8iOAN"
      },
      "source": [
        "cosmo = {\"sigma8\": 0.8, \"omega_m\":0.3}"
      ],
      "execution_count": 48,
      "outputs": []
    },
    {
      "cell_type": "code",
      "metadata": {
        "colab": {
          "base_uri": "https://localhost:8080/"
        },
        "id": "72acWWFWiN96",
        "outputId": "8dbe0d0e-5315-4d40-f0c1-752a5740dc78"
      },
      "source": [
        "jax.grad(myfunc)(cosmo)"
      ],
      "execution_count": 49,
      "outputs": [
        {
          "output_type": "execute_result",
          "data": {
            "text/plain": [
              "{'omega_m': DeviceArray(0., dtype=float32, weak_type=True),\n",
              " 'sigma8': DeviceArray(3.2, dtype=float32, weak_type=True)}"
            ]
          },
          "metadata": {},
          "execution_count": 49
        }
      ]
    },
    {
      "cell_type": "markdown",
      "metadata": {
        "id": "DB5jfUdKivac"
      },
      "source": [
        "In this case this is a simple dictionary, but you can register your own objects\n",
        "so that they can be recognized by JAX's autodiff. See [here](https://jax.readthedocs.io/en/latest/pytrees.html)\n",
        "\n",
        "In jax-cosmo, you can take derivatives with respect to `objects` like redshift distributions, and cosmology :-)  "
      ]
    },
    {
      "cell_type": "markdown",
      "metadata": {
        "id": "sGZTDIlK4L-L"
      },
      "source": [
        "## Examples of useful implementations\n",
        "\n",
        "\n",
        "### End-to-End Limber Integration Example\n",
        "\n",
        "One of the most frequent things we need to do usually is evaluating an integral over a power spectrum."
      ]
    },
    {
      "cell_type": "code",
      "metadata": {
        "id": "B_CCRulU4ieW"
      },
      "source": [
        "def simps(f, a, b, N=128):\n",
        "  \"\"\" Simple Simspon's integration \n",
        "  Args:\n",
        "    f: vectorized function providing the integrand\n",
        "    a,b: float, interval of integraions\n",
        "    N: integer, number of points to evaluate the integrand \n",
        "  \"\"\"\n",
        "  if N % 2 == 1:\n",
        "      raise ValueError(\"N must be an even integer.\")\n",
        "  dx = (b - a) / N                # Step between points \n",
        "  x = np.linspace(a, b, N + 1)    # Grid for the evaluation of integrand\n",
        "  y = f(x)                        # Evaluate the integrand on appropriate grid\n",
        "  return dx / 3 * np.sum(y[0:-1:2] + 4 * y[1::2] + y[2::2], axis=0) # Simpson's rule"
      ],
      "execution_count": 50,
      "outputs": []
    },
    {
      "cell_type": "code",
      "metadata": {
        "id": "LiHNL5-PhrLK",
        "colab": {
          "base_uri": "https://localhost:8080/"
        },
        "outputId": "e4aed28f-b9c4-4839-fdc3-a6572ad191a6"
      },
      "source": [
        "pip install --quiet jax-cosmo"
      ],
      "execution_count": 51,
      "outputs": [
        {
          "output_type": "stream",
          "name": "stdout",
          "text": [
            "\u001b[?25l\r\u001b[K     |█▏                              | 10 kB 30.8 MB/s eta 0:00:01\r\u001b[K     |██▎                             | 20 kB 8.7 MB/s eta 0:00:01\r\u001b[K     |███▌                            | 30 kB 12.4 MB/s eta 0:00:01\r\u001b[K     |████▋                           | 40 kB 5.1 MB/s eta 0:00:01\r\u001b[K     |█████▉                          | 51 kB 5.7 MB/s eta 0:00:01\r\u001b[K     |███████                         | 61 kB 6.8 MB/s eta 0:00:01\r\u001b[K     |████████                        | 71 kB 6.6 MB/s eta 0:00:01\r\u001b[K     |█████████▎                      | 81 kB 7.4 MB/s eta 0:00:01\r\u001b[K     |██████████▍                     | 92 kB 5.8 MB/s eta 0:00:01\r\u001b[K     |███████████▋                    | 102 kB 6.3 MB/s eta 0:00:01\r\u001b[K     |████████████▊                   | 112 kB 6.3 MB/s eta 0:00:01\r\u001b[K     |█████████████▉                  | 122 kB 6.3 MB/s eta 0:00:01\r\u001b[K     |███████████████                 | 133 kB 6.3 MB/s eta 0:00:01\r\u001b[K     |████████████████▏               | 143 kB 6.3 MB/s eta 0:00:01\r\u001b[K     |█████████████████▍              | 153 kB 6.3 MB/s eta 0:00:01\r\u001b[K     |██████████████████▌             | 163 kB 6.3 MB/s eta 0:00:01\r\u001b[K     |███████████████████▋            | 174 kB 6.3 MB/s eta 0:00:01\r\u001b[K     |████████████████████▉           | 184 kB 6.3 MB/s eta 0:00:01\r\u001b[K     |██████████████████████          | 194 kB 6.3 MB/s eta 0:00:01\r\u001b[K     |███████████████████████▏        | 204 kB 6.3 MB/s eta 0:00:01\r\u001b[K     |████████████████████████▎       | 215 kB 6.3 MB/s eta 0:00:01\r\u001b[K     |█████████████████████████▍      | 225 kB 6.3 MB/s eta 0:00:01\r\u001b[K     |██████████████████████████▋     | 235 kB 6.3 MB/s eta 0:00:01\r\u001b[K     |███████████████████████████▊    | 245 kB 6.3 MB/s eta 0:00:01\r\u001b[K     |█████████████████████████████   | 256 kB 6.3 MB/s eta 0:00:01\r\u001b[K     |██████████████████████████████  | 266 kB 6.3 MB/s eta 0:00:01\r\u001b[K     |███████████████████████████████▏| 276 kB 6.3 MB/s eta 0:00:01\r\u001b[K     |████████████████████████████████| 283 kB 6.3 MB/s \n",
            "\u001b[?25h  Building wheel for jax-cosmo (setup.py) ... \u001b[?25l\u001b[?25hdone\n"
          ]
        }
      ]
    },
    {
      "cell_type": "markdown",
      "metadata": {
        "id": "mrX1UobDhuEJ"
      },
      "source": [
        "Let's try to use it to implement a limber integration:"
      ]
    },
    {
      "cell_type": "code",
      "metadata": {
        "id": "6yiDKa416OoF"
      },
      "source": [
        "import jax_cosmo as jc\n",
        "cosmo = jc.Planck15()                  # Create a cosmology with default parameters\n",
        "nz = jc.redshift.smail_nz(1., 2.,  1.) # Create a Smail redshift distribution\n",
        "tracer = jc.probes.WeakLensing([nz])   # Define a lensing probe"
      ],
      "execution_count": 52,
      "outputs": []
    },
    {
      "cell_type": "code",
      "metadata": {
        "id": "qOb3F4vp6MFd"
      },
      "source": [
        "def angular_cl(cosmo, tracer, ell, integration_fn=simps):\n",
        "\n",
        "  @jax.vmap\n",
        "  def limber(ell):\n",
        "    \"\"\" Function that will perform a limber integration at a single ell\n",
        "    \"\"\"\n",
        "    def integrand(a):\n",
        "      # Step 1: retrieve the associated comoving distance, clip to avoid stupid values\n",
        "      chi = np.clip(jc.background.radial_comoving_distance(cosmo, a), 1e-2)\n",
        "      \n",
        "      # Step 2: get the power spectrum for this combination of chi and a\n",
        "      pk = jc.power.nonlinear_matter_power(cosmo, k = (ell + 0.5) / chi, a = a) \n",
        "\n",
        "      # Step 3: retrieve the kernel\n",
        "      kernel = tracer.kernel(cosmo, jc.utils.a2z(a), ell)\n",
        "\n",
        "      # Step 4: computing the integrand\n",
        "      return  pk * kernel**2 * jc.background.dchioverda(cosmo, a) / chi\n",
        "\n",
        "    return integration_fn(integrand, jc.utils.z2a(tracer.zmax), 1.0) / jc.constants.c**2\n",
        "\n",
        "  # Now, evaluate the Limber integral for an array of ell\n",
        "  return limber(ell)"
      ],
      "execution_count": 53,
      "outputs": []
    },
    {
      "cell_type": "markdown",
      "metadata": {
        "id": "RaPnQHlsB5qr"
      },
      "source": [
        "And that's it folks"
      ]
    },
    {
      "cell_type": "code",
      "metadata": {
        "colab": {
          "base_uri": "https://localhost:8080/"
        },
        "id": "OtDkOURmAo_t",
        "outputId": "80c99b56-b88b-4d4b-809f-6e8f2df17af0"
      },
      "source": [
        "ell = np.logspace(1,3)\n",
        "cls = angular_cl(cosmo, tracer, ell)"
      ],
      "execution_count": 54,
      "outputs": [
        {
          "output_type": "stream",
          "name": "stderr",
          "text": [
            "/usr/local/lib/python3.8/dist-packages/jax_cosmo/scipy/interpolate.py:35: UserWarning: Explicitly requested dtype <class 'jax.numpy.int64'> requested in astype is not available, and will be truncated to dtype int32. To enable more dtypes, set the jax_enable_x64 configuration option or the JAX_ENABLE_X64 shell environment variable. See https://github.com/google/jax#current-gotchas for more.\n",
            "  s = np.sign(np.clip(x, xp[1], xp[-2]) - xi).astype(np.int64)\n",
            "/usr/local/lib/python3.8/dist-packages/jax_cosmo/scipy/interpolate.py:36: UserWarning: Explicitly requested dtype <class 'jax.numpy.int64'> requested in astype is not available, and will be truncated to dtype int32. To enable more dtypes, set the jax_enable_x64 configuration option or the JAX_ENABLE_X64 shell environment variable. See https://github.com/google/jax#current-gotchas for more.\n",
            "  a = (fp[ind + np.copysign(1, s).astype(np.int64)] - fp[ind]) / (\n",
            "/usr/local/lib/python3.8/dist-packages/jax_cosmo/scipy/interpolate.py:37: UserWarning: Explicitly requested dtype <class 'jax.numpy.int64'> requested in astype is not available, and will be truncated to dtype int32. To enable more dtypes, set the jax_enable_x64 configuration option or the JAX_ENABLE_X64 shell environment variable. See https://github.com/google/jax#current-gotchas for more.\n",
            "  xp[ind + np.copysign(1, s).astype(np.int64)] - xp[ind]\n"
          ]
        }
      ]
    },
    {
      "cell_type": "code",
      "metadata": {
        "colab": {
          "base_uri": "https://localhost:8080/",
          "height": 1000
        },
        "id": "hC4S6LsvAo5n",
        "outputId": "fb9447de-844d-4ea5-f889-64a665fe4487"
      },
      "source": [
        "loglog(ell, cls)"
      ],
      "execution_count": 55,
      "outputs": [
        {
          "output_type": "execute_result",
          "data": {
            "text/plain": [
              "[<matplotlib.lines.Line2D at 0x7f772a4c3a60>,\n",
              " <matplotlib.lines.Line2D at 0x7f772a5078b0>,\n",
              " <matplotlib.lines.Line2D at 0x7f772a507df0>,\n",
              " <matplotlib.lines.Line2D at 0x7f772a507970>,\n",
              " <matplotlib.lines.Line2D at 0x7f772a507c40>,\n",
              " <matplotlib.lines.Line2D at 0x7f772a507b80>,\n",
              " <matplotlib.lines.Line2D at 0x7f772a507820>,\n",
              " <matplotlib.lines.Line2D at 0x7f772a507d00>,\n",
              " <matplotlib.lines.Line2D at 0x7f772a507cd0>,\n",
              " <matplotlib.lines.Line2D at 0x7f772a656940>,\n",
              " <matplotlib.lines.Line2D at 0x7f76df7e2910>,\n",
              " <matplotlib.lines.Line2D at 0x7f772a5f7e20>,\n",
              " <matplotlib.lines.Line2D at 0x7f772a507a30>,\n",
              " <matplotlib.lines.Line2D at 0x7f772a507ac0>,\n",
              " <matplotlib.lines.Line2D at 0x7f772a5075b0>,\n",
              " <matplotlib.lines.Line2D at 0x7f772a6ae4c0>,\n",
              " <matplotlib.lines.Line2D at 0x7f772a6aee80>,\n",
              " <matplotlib.lines.Line2D at 0x7f772a566b80>,\n",
              " <matplotlib.lines.Line2D at 0x7f772a566730>,\n",
              " <matplotlib.lines.Line2D at 0x7f772a566940>,\n",
              " <matplotlib.lines.Line2D at 0x7f772a566d00>,\n",
              " <matplotlib.lines.Line2D at 0x7f772a566640>,\n",
              " <matplotlib.lines.Line2D at 0x7f772a5665e0>,\n",
              " <matplotlib.lines.Line2D at 0x7f772a566100>,\n",
              " <matplotlib.lines.Line2D at 0x7f772a566a00>,\n",
              " <matplotlib.lines.Line2D at 0x7f772a5666a0>,\n",
              " <matplotlib.lines.Line2D at 0x7f772a5662b0>,\n",
              " <matplotlib.lines.Line2D at 0x7f772a566430>,\n",
              " <matplotlib.lines.Line2D at 0x7f772a5667c0>,\n",
              " <matplotlib.lines.Line2D at 0x7f772a577340>,\n",
              " <matplotlib.lines.Line2D at 0x7f772a577c10>,\n",
              " <matplotlib.lines.Line2D at 0x7f772a577970>,\n",
              " <matplotlib.lines.Line2D at 0x7f772a577f10>,\n",
              " <matplotlib.lines.Line2D at 0x7f772a577cd0>,\n",
              " <matplotlib.lines.Line2D at 0x7f772a577580>,\n",
              " <matplotlib.lines.Line2D at 0x7f772a577bb0>,\n",
              " <matplotlib.lines.Line2D at 0x7f772a5774c0>,\n",
              " <matplotlib.lines.Line2D at 0x7f772a577a00>,\n",
              " <matplotlib.lines.Line2D at 0x7f772a577b50>,\n",
              " <matplotlib.lines.Line2D at 0x7f772a597280>,\n",
              " <matplotlib.lines.Line2D at 0x7f772a577a30>,\n",
              " <matplotlib.lines.Line2D at 0x7f772a577e20>,\n",
              " <matplotlib.lines.Line2D at 0x7f772a577490>,\n",
              " <matplotlib.lines.Line2D at 0x7f772a577670>,\n",
              " <matplotlib.lines.Line2D at 0x7f772a4e4490>,\n",
              " <matplotlib.lines.Line2D at 0x7f772a4e47f0>,\n",
              " <matplotlib.lines.Line2D at 0x7f772a4e4580>,\n",
              " <matplotlib.lines.Line2D at 0x7f772a4e4d30>,\n",
              " <matplotlib.lines.Line2D at 0x7f772a4e4fa0>,\n",
              " <matplotlib.lines.Line2D at 0x7f772a4e4940>,\n",
              " <matplotlib.lines.Line2D at 0x7f772a4e42b0>,\n",
              " <matplotlib.lines.Line2D at 0x7f772a4e4c10>,\n",
              " <matplotlib.lines.Line2D at 0x7f772a4e4460>,\n",
              " <matplotlib.lines.Line2D at 0x7f772a4e4a00>,\n",
              " <matplotlib.lines.Line2D at 0x7f772a4e4f10>,\n",
              " <matplotlib.lines.Line2D at 0x7f772a4e4880>,\n",
              " <matplotlib.lines.Line2D at 0x7f772a5a6070>,\n",
              " <matplotlib.lines.Line2D at 0x7f772a5a6be0>,\n",
              " <matplotlib.lines.Line2D at 0x7f772a5a6d30>,\n",
              " <matplotlib.lines.Line2D at 0x7f772a5a6ee0>,\n",
              " <matplotlib.lines.Line2D at 0x7f772a5a6130>,\n",
              " <matplotlib.lines.Line2D at 0x7f772a5a67c0>,\n",
              " <matplotlib.lines.Line2D at 0x7f772a5a6eb0>,\n",
              " <matplotlib.lines.Line2D at 0x7f772a5a61c0>,\n",
              " <matplotlib.lines.Line2D at 0x7f772a5a6dc0>,\n",
              " <matplotlib.lines.Line2D at 0x7f772a5a6670>,\n",
              " <matplotlib.lines.Line2D at 0x7f772a5a6190>,\n",
              " <matplotlib.lines.Line2D at 0x7f772a5a69d0>,\n",
              " <matplotlib.lines.Line2D at 0x7f772a5a68b0>,\n",
              " <matplotlib.lines.Line2D at 0x7f772a5078e0>,\n",
              " <matplotlib.lines.Line2D at 0x7f7717457580>,\n",
              " <matplotlib.lines.Line2D at 0x7f772a507670>,\n",
              " <matplotlib.lines.Line2D at 0x7f772a5a63d0>,\n",
              " <matplotlib.lines.Line2D at 0x7f772a5a6fd0>,\n",
              " <matplotlib.lines.Line2D at 0x7f772a5a6b50>,\n",
              " <matplotlib.lines.Line2D at 0x7f772a4df520>,\n",
              " <matplotlib.lines.Line2D at 0x7f772a4df7c0>,\n",
              " <matplotlib.lines.Line2D at 0x7f772a4df610>,\n",
              " <matplotlib.lines.Line2D at 0x7f772a4dfb20>,\n",
              " <matplotlib.lines.Line2D at 0x7f772a4df640>,\n",
              " <matplotlib.lines.Line2D at 0x7f772a4dfe80>,\n",
              " <matplotlib.lines.Line2D at 0x7f772a4dfbb0>,\n",
              " <matplotlib.lines.Line2D at 0x7f772a4df0d0>,\n",
              " <matplotlib.lines.Line2D at 0x7f772a4df700>,\n",
              " <matplotlib.lines.Line2D at 0x7f772a4ce0d0>,\n",
              " <matplotlib.lines.Line2D at 0x7f772a4cee50>,\n",
              " <matplotlib.lines.Line2D at 0x7f772a4ce880>,\n",
              " <matplotlib.lines.Line2D at 0x7f772a4cedc0>,\n",
              " <matplotlib.lines.Line2D at 0x7f772a4ce7f0>,\n",
              " <matplotlib.lines.Line2D at 0x7f772a4ce760>,\n",
              " <matplotlib.lines.Line2D at 0x7f772a677be0>,\n",
              " <matplotlib.lines.Line2D at 0x7f772a4cec70>,\n",
              " <matplotlib.lines.Line2D at 0x7f772a4ceee0>,\n",
              " <matplotlib.lines.Line2D at 0x7f772a4cef40>,\n",
              " <matplotlib.lines.Line2D at 0x7f772a4cea30>,\n",
              " <matplotlib.lines.Line2D at 0x7f772a5a52b0>,\n",
              " <matplotlib.lines.Line2D at 0x7f772a5a5370>,\n",
              " <matplotlib.lines.Line2D at 0x7f772a5a5d30>,\n",
              " <matplotlib.lines.Line2D at 0x7f772a5a5340>,\n",
              " <matplotlib.lines.Line2D at 0x7f772a5a54f0>,\n",
              " <matplotlib.lines.Line2D at 0x7f772a5a5520>,\n",
              " <matplotlib.lines.Line2D at 0x7f772a5a5d00>,\n",
              " <matplotlib.lines.Line2D at 0x7f772a517b20>,\n",
              " <matplotlib.lines.Line2D at 0x7f772a5a5f40>,\n",
              " <matplotlib.lines.Line2D at 0x7f772a5a5be0>,\n",
              " <matplotlib.lines.Line2D at 0x7f772a5a5c40>,\n",
              " <matplotlib.lines.Line2D at 0x7f772a5a5bb0>,\n",
              " <matplotlib.lines.Line2D at 0x7f772a5e6760>,\n",
              " <matplotlib.lines.Line2D at 0x7f772a5e6d90>,\n",
              " <matplotlib.lines.Line2D at 0x7f772a5e60a0>,\n",
              " <matplotlib.lines.Line2D at 0x7f772a5e6820>,\n",
              " <matplotlib.lines.Line2D at 0x7f772a5e66d0>,\n",
              " <matplotlib.lines.Line2D at 0x7f772a5e6970>,\n",
              " <matplotlib.lines.Line2D at 0x7f772a5e6dc0>,\n",
              " <matplotlib.lines.Line2D at 0x7f772a5e6cd0>,\n",
              " <matplotlib.lines.Line2D at 0x7f772a5e67c0>,\n",
              " <matplotlib.lines.Line2D at 0x7f772a5e68b0>,\n",
              " <matplotlib.lines.Line2D at 0x7f772a5e6910>,\n",
              " <matplotlib.lines.Line2D at 0x7f772a5aa070>,\n",
              " <matplotlib.lines.Line2D at 0x7f772a5aa850>,\n",
              " <matplotlib.lines.Line2D at 0x7f772a5aa310>,\n",
              " <matplotlib.lines.Line2D at 0x7f772a5aa370>,\n",
              " <matplotlib.lines.Line2D at 0x7f772a5aaaf0>,\n",
              " <matplotlib.lines.Line2D at 0x7f772a5aab20>,\n",
              " <matplotlib.lines.Line2D at 0x7f772a5aaa90>,\n",
              " <matplotlib.lines.Line2D at 0x7f772a5aa550>,\n",
              " <matplotlib.lines.Line2D at 0x7f772a5aa130>,\n",
              " <matplotlib.lines.Line2D at 0x7f772a5aaac0>,\n",
              " <matplotlib.lines.Line2D at 0x7f772a5aad30>]"
            ]
          },
          "metadata": {},
          "execution_count": 55
        },
        {
          "output_type": "stream",
          "name": "stderr",
          "text": [
            "/usr/local/lib/python3.8/dist-packages/IPython/core/events.py:88: UserWarning: Data has no positive values, and therefore cannot be log-scaled.\n",
            "  func(*args, **kwargs)\n"
          ]
        },
        {
          "output_type": "display_data",
          "data": {
            "text/plain": [
              "<Figure size 432x288 with 1 Axes>"
            ],
            "image/png": "[encoded data removed]"
          },
          "metadata": {
            "needs_background": "light"
          }
        }
      ]
    },
    {
      "cell_type": "code",
      "metadata": {
        "id": "VsAlueJBAoxs"
      },
      "source": [
        "# We can also jit it\n",
        "jitted_angular_cl = jax.jit(angular_cl)"
      ],
      "execution_count": 56,
      "outputs": []
    },
    {
      "cell_type": "code",
      "metadata": {
        "colab": {
          "base_uri": "https://localhost:8080/"
        },
        "id": "R_gaLYBo-Qai",
        "outputId": "4d725828-9e0c-4fbc-92cb-aec9a109c46c"
      },
      "source": [
        "jitted_angular_cl(cosmo, tracer, ell)"
      ],
      "execution_count": 57,
      "outputs": [
        {
          "output_type": "stream",
          "name": "stderr",
          "text": [
            "/usr/local/lib/python3.8/dist-packages/jax_cosmo/scipy/interpolate.py:35: UserWarning: Explicitly requested dtype <class 'jax.numpy.int64'> requested in astype is not available, and will be truncated to dtype int32. To enable more dtypes, set the jax_enable_x64 configuration option or the JAX_ENABLE_X64 shell environment variable. See https://github.com/google/jax#current-gotchas for more.\n",
            "  s = np.sign(np.clip(x, xp[1], xp[-2]) - xi).astype(np.int64)\n",
            "/usr/local/lib/python3.8/dist-packages/jax_cosmo/scipy/interpolate.py:36: UserWarning: Explicitly requested dtype <class 'jax.numpy.int64'> requested in astype is not available, and will be truncated to dtype int32. To enable more dtypes, set the jax_enable_x64 configuration option or the JAX_ENABLE_X64 shell environment variable. See https://github.com/google/jax#current-gotchas for more.\n",
            "  a = (fp[ind + np.copysign(1, s).astype(np.int64)] - fp[ind]) / (\n",
            "/usr/local/lib/python3.8/dist-packages/jax_cosmo/scipy/interpolate.py:37: UserWarning: Explicitly requested dtype <class 'jax.numpy.int64'> requested in astype is not available, and will be truncated to dtype int32. To enable more dtypes, set the jax_enable_x64 configuration option or the JAX_ENABLE_X64 shell environment variable. See https://github.com/google/jax#current-gotchas for more.\n",
            "  xp[ind + np.copysign(1, s).astype(np.int64)] - xp[ind]\n"
          ]
        },
        {
          "output_type": "execute_result",
          "data": {
            "text/plain": [
              "DeviceArray([[0., 0., 0., ..., 0., 0., 0.],\n",
              "             [0., 0., 0., ..., 0., 0., 0.],\n",
              "             [0., 0., 0., ..., 0., 0., 0.],\n",
              "             ...,\n",
              "             [0., 0., 0., ..., 0., 0., 0.],\n",
              "             [0., 0., 0., ..., 0., 0., 0.],\n",
              "             [0., 0., 0., ..., 0., 0., 0.]], dtype=float32)"
            ]
          },
          "metadata": {},
          "execution_count": 57
        }
      ]
    },
    {
      "cell_type": "markdown",
      "metadata": {
        "id": "N9m-0UE56WDY"
      },
      "source": [
        "### Solving ODEs\n",
        "\n",
        "\n",
        "Sorry running out of time for this, but have a look  at how this is done [here](https://github.com/DifferentiableUniverseInitiative/jax_cosmo/blob/c2f8b59214df70d820bbad53f6a7b1ab2280638a/jax_cosmo/background.py#L471) "
      ]
    },
    {
      "cell_type": "markdown",
      "metadata": {
        "id": "0JoAXneDz3QF"
      },
      "source": [
        "## Conclusion\n",
        "\n",
        "This is only the very tip of the iceberg!\n",
        "\n",
        "Here are a few pointers to exciting things in JAX:\n",
        "- [flax](https://github.com/google/flax) : Neural Network library\n",
        "- [morphine](https://github.com/benjaminpope/morphine) : Super cool example of a project which has transitioned from numpy to jax, for the purpose of PSF modeling\n",
        "\n"
      ]
    },
    {
      "cell_type": "code",
      "metadata": {
        "id": "dc6wDrY8jr3n"
      },
      "source": [],
      "execution_count": 57,
      "outputs": []
    }
  ]
}